{
  "nbformat": 4,
  "nbformat_minor": 0,
  "metadata": {
    "colab": {
      "provenance": [],
      "collapsed_sections": [],
      "authorship_tag": "ABX9TyMHnghULq8MT9QnadwZLw1P",
      "include_colab_link": true
    },
    "kernelspec": {
      "name": "python3",
      "display_name": "Python 3"
    },
    "language_info": {
      "name": "python"
    }
  },
  "cells": [
    {
      "cell_type": "markdown",
      "metadata": {
        "id": "view-in-github",
        "colab_type": "text"
      },
      "source": [
        "<a href=\"https://colab.research.google.com/github/SiwakornJew/introtoda/blob/main/Da.ipynb\" target=\"_parent\"><img src=\"https://colab.research.google.com/assets/colab-badge.svg\" alt=\"Open In Colab\"/></a>"
      ]
    },
    {
      "cell_type": "code",
      "execution_count": null,
      "metadata": {
        "colab": {
          "base_uri": "https://localhost:8080/"
        },
        "id": "LceTm5g3k2Co",
        "outputId": "3ef9ab97-94f4-43e2-8232-0ae1804cb42c"
      },
      "outputs": [
        {
          "output_type": "stream",
          "name": "stdout",
          "text": [
            "Looking in indexes: https://pypi.org/simple, https://us-python.pkg.dev/colab-wheels/public/simple/\n",
            "Requirement already satisfied: pandas in /usr/local/lib/python3.7/dist-packages (1.3.5)\n",
            "Requirement already satisfied: numpy>=1.17.3 in /usr/local/lib/python3.7/dist-packages (from pandas) (1.21.6)\n",
            "Requirement already satisfied: pytz>=2017.3 in /usr/local/lib/python3.7/dist-packages (from pandas) (2022.4)\n",
            "Requirement already satisfied: python-dateutil>=2.7.3 in /usr/local/lib/python3.7/dist-packages (from pandas) (2.8.2)\n",
            "Requirement already satisfied: six>=1.5 in /usr/local/lib/python3.7/dist-packages (from python-dateutil>=2.7.3->pandas) (1.15.0)\n"
          ]
        }
      ],
      "source": [
        "pip install pandas\n"
      ]
    },
    {
      "cell_type": "code",
      "source": [
        "pip install numpy\n"
      ],
      "metadata": {
        "colab": {
          "base_uri": "https://localhost:8080/"
        },
        "id": "sQvVM_JzlG4W",
        "outputId": "1bfbae29-bd42-43cf-801c-524a771db574"
      },
      "execution_count": null,
      "outputs": [
        {
          "output_type": "stream",
          "name": "stdout",
          "text": [
            "Looking in indexes: https://pypi.org/simple, https://us-python.pkg.dev/colab-wheels/public/simple/\n",
            "Requirement already satisfied: numpy in /usr/local/lib/python3.7/dist-packages (1.21.6)\n"
          ]
        }
      ]
    },
    {
      "cell_type": "code",
      "source": [
        "pip install seaborn\n"
      ],
      "metadata": {
        "colab": {
          "base_uri": "https://localhost:8080/"
        },
        "id": "Nq3bi7GylIWm",
        "outputId": "d21c7e52-eb5c-4da0-8298-a46db645dac1"
      },
      "execution_count": null,
      "outputs": [
        {
          "output_type": "stream",
          "name": "stdout",
          "text": [
            "Looking in indexes: https://pypi.org/simple, https://us-python.pkg.dev/colab-wheels/public/simple/\n",
            "Requirement already satisfied: seaborn in /usr/local/lib/python3.7/dist-packages (0.11.2)\n",
            "Requirement already satisfied: scipy>=1.0 in /usr/local/lib/python3.7/dist-packages (from seaborn) (1.7.3)\n",
            "Requirement already satisfied: matplotlib>=2.2 in /usr/local/lib/python3.7/dist-packages (from seaborn) (3.2.2)\n",
            "Requirement already satisfied: numpy>=1.15 in /usr/local/lib/python3.7/dist-packages (from seaborn) (1.21.6)\n",
            "Requirement already satisfied: pandas>=0.23 in /usr/local/lib/python3.7/dist-packages (from seaborn) (1.3.5)\n",
            "Requirement already satisfied: pyparsing!=2.0.4,!=2.1.2,!=2.1.6,>=2.0.1 in /usr/local/lib/python3.7/dist-packages (from matplotlib>=2.2->seaborn) (3.0.9)\n",
            "Requirement already satisfied: cycler>=0.10 in /usr/local/lib/python3.7/dist-packages (from matplotlib>=2.2->seaborn) (0.11.0)\n",
            "Requirement already satisfied: kiwisolver>=1.0.1 in /usr/local/lib/python3.7/dist-packages (from matplotlib>=2.2->seaborn) (1.4.4)\n",
            "Requirement already satisfied: python-dateutil>=2.1 in /usr/local/lib/python3.7/dist-packages (from matplotlib>=2.2->seaborn) (2.8.2)\n",
            "Requirement already satisfied: typing-extensions in /usr/local/lib/python3.7/dist-packages (from kiwisolver>=1.0.1->matplotlib>=2.2->seaborn) (4.1.1)\n",
            "Requirement already satisfied: pytz>=2017.3 in /usr/local/lib/python3.7/dist-packages (from pandas>=0.23->seaborn) (2022.4)\n",
            "Requirement already satisfied: six>=1.5 in /usr/local/lib/python3.7/dist-packages (from python-dateutil>=2.1->matplotlib>=2.2->seaborn) (1.15.0)\n"
          ]
        }
      ]
    },
    {
      "cell_type": "code",
      "source": [
        "pip install matplotlib\n"
      ],
      "metadata": {
        "colab": {
          "base_uri": "https://localhost:8080/"
        },
        "id": "mqEHFTYnlLH-",
        "outputId": "a013079d-cd0f-41df-9a36-f57656cd8303"
      },
      "execution_count": null,
      "outputs": [
        {
          "output_type": "stream",
          "name": "stdout",
          "text": [
            "Looking in indexes: https://pypi.org/simple, https://us-python.pkg.dev/colab-wheels/public/simple/\n",
            "Requirement already satisfied: matplotlib in /usr/local/lib/python3.7/dist-packages (3.2.2)\n",
            "Requirement already satisfied: pyparsing!=2.0.4,!=2.1.2,!=2.1.6,>=2.0.1 in /usr/local/lib/python3.7/dist-packages (from matplotlib) (3.0.9)\n",
            "Requirement already satisfied: kiwisolver>=1.0.1 in /usr/local/lib/python3.7/dist-packages (from matplotlib) (1.4.4)\n",
            "Requirement already satisfied: python-dateutil>=2.1 in /usr/local/lib/python3.7/dist-packages (from matplotlib) (2.8.2)\n",
            "Requirement already satisfied: cycler>=0.10 in /usr/local/lib/python3.7/dist-packages (from matplotlib) (0.11.0)\n",
            "Requirement already satisfied: numpy>=1.11 in /usr/local/lib/python3.7/dist-packages (from matplotlib) (1.21.6)\n",
            "Requirement already satisfied: typing-extensions in /usr/local/lib/python3.7/dist-packages (from kiwisolver>=1.0.1->matplotlib) (4.1.1)\n",
            "Requirement already satisfied: six>=1.5 in /usr/local/lib/python3.7/dist-packages (from python-dateutil>=2.1->matplotlib) (1.15.0)\n"
          ]
        }
      ]
    },
    {
      "cell_type": "code",
      "source": [
        "pip install sklearn"
      ],
      "metadata": {
        "colab": {
          "base_uri": "https://localhost:8080/"
        },
        "id": "yiRNKrDqlOrD",
        "outputId": "a716dcab-adc3-471a-fbe2-0bdbadd07aa1"
      },
      "execution_count": null,
      "outputs": [
        {
          "output_type": "stream",
          "name": "stdout",
          "text": [
            "Looking in indexes: https://pypi.org/simple, https://us-python.pkg.dev/colab-wheels/public/simple/\n",
            "Requirement already satisfied: sklearn in /usr/local/lib/python3.7/dist-packages (0.0)\n",
            "Requirement already satisfied: scikit-learn in /usr/local/lib/python3.7/dist-packages (from sklearn) (1.0.2)\n",
            "Requirement already satisfied: numpy>=1.14.6 in /usr/local/lib/python3.7/dist-packages (from scikit-learn->sklearn) (1.21.6)\n",
            "Requirement already satisfied: joblib>=0.11 in /usr/local/lib/python3.7/dist-packages (from scikit-learn->sklearn) (1.2.0)\n",
            "Requirement already satisfied: scipy>=1.1.0 in /usr/local/lib/python3.7/dist-packages (from scikit-learn->sklearn) (1.7.3)\n",
            "Requirement already satisfied: threadpoolctl>=2.0.0 in /usr/local/lib/python3.7/dist-packages (from scikit-learn->sklearn) (3.1.0)\n"
          ]
        }
      ]
    },
    {
      "cell_type": "code",
      "source": [
        "import pandas as pd\n",
        "import seaborn as sns\n",
        "import numpy as np\n",
        "from sklearn.linear_model import LinearRegression\n",
        "from sklearn.linear_model import LogisticRegression\n",
        "from sklearn.tree import DecisionTreeClassifier\n",
        "from sklearn.naive_bayes import GaussianNB\n",
        "from sklearn.neighbors import KNeighborsClassifier,KNeighborsRegressor\n",
        "from sklearn.neural_network import MLPClassifier,MLPRegressor\n",
        "from sklearn.model_selection import KFold\n",
        "from sklearn.metrics import accuracy_score\n",
        "from sklearn.tree import DecisionTreeRegressor\n",
        "from sklearn.preprocessing import StandardScaler\n",
        "from sklearn.metrics import mean_squared_error\n",
        "\n",
        "\n",
        "\n",
        "import matplotlib.pyplot as plt"
      ],
      "metadata": {
        "id": "e4OEEqgplQj6"
      },
      "execution_count": null,
      "outputs": []
    },
    {
      "cell_type": "code",
      "source": [
        "atrain ='https://raw.githubusercontent.com/SiwakornJew/introtoda/main/A-train.csv'\n",
        "atest = 'https://raw.githubusercontent.com/SiwakornJew/introtoda/main/A-test.csv'\n",
        "\n",
        "btrain = 'https://raw.githubusercontent.com/SiwakornJew/introtoda/main/B-train.csv'\n",
        "btest = 'https://raw.githubusercontent.com/SiwakornJew/introtoda/main/B-test.csv'\n",
        "df = pd.read_csv(btrain)\n",
        "a_test = pd.read_csv(btest)\n",
        "a_test\n"
      ],
      "metadata": {
        "colab": {
          "base_uri": "https://localhost:8080/",
          "height": 363
        },
        "id": "_1IyLyGolYud",
        "outputId": "c0d2144c-fd4c-4974-a700-994b44391d7b"
      },
      "execution_count": null,
      "outputs": [
        {
          "output_type": "execute_result",
          "data": {
            "text/plain": [
              "       x1      x2     x3     x4     x5     x6      x7        x8     y\n",
              "0   50.69 -120.50  -5.93   7.43 -16.28  -9.26   96.68  10510.35  B_01\n",
              "1  102.08   74.69  -4.95  -2.20  -4.95    NaN   27.30  36952.37  B_02\n",
              "2     NaN   49.86   1.00  -5.35   0.72  -9.81     NaN  24768.46  B_03\n",
              "3   49.39 -101.88   8.69  -7.54 -11.28   4.61  -15.11       NaN  B_04\n",
              "4  140.49   59.99   0.05   6.55    NaN  -0.42  109.93   2603.04  B_05\n",
              "5   54.08     NaN  11.00 -16.44   5.31  17.83  -90.67      5.20  B_06\n",
              "6  106.48  -50.55  16.47    NaN   1.34 -11.53  138.03   1753.93  B_07\n",
              "7  -83.82 -104.84    NaN -13.70  10.19  -2.51  -34.02   7494.36  B_08\n",
              "8  147.15    9.14  -3.06   1.97   8.14  26.99   37.34    249.96  B_09\n",
              "9    8.68 -207.09  -4.37 -10.22  -5.01  10.57  -24.65     20.43  B_10"
            ],
            "text/html": [
              "\n",
              "  <div id=\"df-53afa060-e94a-4960-98c9-7667c59dddae\">\n",
              "    <div class=\"colab-df-container\">\n",
              "      <div>\n",
              "<style scoped>\n",
              "    .dataframe tbody tr th:only-of-type {\n",
              "        vertical-align: middle;\n",
              "    }\n",
              "\n",
              "    .dataframe tbody tr th {\n",
              "        vertical-align: top;\n",
              "    }\n",
              "\n",
              "    .dataframe thead th {\n",
              "        text-align: right;\n",
              "    }\n",
              "</style>\n",
              "<table border=\"1\" class=\"dataframe\">\n",
              "  <thead>\n",
              "    <tr style=\"text-align: right;\">\n",
              "      <th></th>\n",
              "      <th>x1</th>\n",
              "      <th>x2</th>\n",
              "      <th>x3</th>\n",
              "      <th>x4</th>\n",
              "      <th>x5</th>\n",
              "      <th>x6</th>\n",
              "      <th>x7</th>\n",
              "      <th>x8</th>\n",
              "      <th>y</th>\n",
              "    </tr>\n",
              "  </thead>\n",
              "  <tbody>\n",
              "    <tr>\n",
              "      <th>0</th>\n",
              "      <td>50.69</td>\n",
              "      <td>-120.50</td>\n",
              "      <td>-5.93</td>\n",
              "      <td>7.43</td>\n",
              "      <td>-16.28</td>\n",
              "      <td>-9.26</td>\n",
              "      <td>96.68</td>\n",
              "      <td>10510.35</td>\n",
              "      <td>B_01</td>\n",
              "    </tr>\n",
              "    <tr>\n",
              "      <th>1</th>\n",
              "      <td>102.08</td>\n",
              "      <td>74.69</td>\n",
              "      <td>-4.95</td>\n",
              "      <td>-2.20</td>\n",
              "      <td>-4.95</td>\n",
              "      <td>NaN</td>\n",
              "      <td>27.30</td>\n",
              "      <td>36952.37</td>\n",
              "      <td>B_02</td>\n",
              "    </tr>\n",
              "    <tr>\n",
              "      <th>2</th>\n",
              "      <td>NaN</td>\n",
              "      <td>49.86</td>\n",
              "      <td>1.00</td>\n",
              "      <td>-5.35</td>\n",
              "      <td>0.72</td>\n",
              "      <td>-9.81</td>\n",
              "      <td>NaN</td>\n",
              "      <td>24768.46</td>\n",
              "      <td>B_03</td>\n",
              "    </tr>\n",
              "    <tr>\n",
              "      <th>3</th>\n",
              "      <td>49.39</td>\n",
              "      <td>-101.88</td>\n",
              "      <td>8.69</td>\n",
              "      <td>-7.54</td>\n",
              "      <td>-11.28</td>\n",
              "      <td>4.61</td>\n",
              "      <td>-15.11</td>\n",
              "      <td>NaN</td>\n",
              "      <td>B_04</td>\n",
              "    </tr>\n",
              "    <tr>\n",
              "      <th>4</th>\n",
              "      <td>140.49</td>\n",
              "      <td>59.99</td>\n",
              "      <td>0.05</td>\n",
              "      <td>6.55</td>\n",
              "      <td>NaN</td>\n",
              "      <td>-0.42</td>\n",
              "      <td>109.93</td>\n",
              "      <td>2603.04</td>\n",
              "      <td>B_05</td>\n",
              "    </tr>\n",
              "    <tr>\n",
              "      <th>5</th>\n",
              "      <td>54.08</td>\n",
              "      <td>NaN</td>\n",
              "      <td>11.00</td>\n",
              "      <td>-16.44</td>\n",
              "      <td>5.31</td>\n",
              "      <td>17.83</td>\n",
              "      <td>-90.67</td>\n",
              "      <td>5.20</td>\n",
              "      <td>B_06</td>\n",
              "    </tr>\n",
              "    <tr>\n",
              "      <th>6</th>\n",
              "      <td>106.48</td>\n",
              "      <td>-50.55</td>\n",
              "      <td>16.47</td>\n",
              "      <td>NaN</td>\n",
              "      <td>1.34</td>\n",
              "      <td>-11.53</td>\n",
              "      <td>138.03</td>\n",
              "      <td>1753.93</td>\n",
              "      <td>B_07</td>\n",
              "    </tr>\n",
              "    <tr>\n",
              "      <th>7</th>\n",
              "      <td>-83.82</td>\n",
              "      <td>-104.84</td>\n",
              "      <td>NaN</td>\n",
              "      <td>-13.70</td>\n",
              "      <td>10.19</td>\n",
              "      <td>-2.51</td>\n",
              "      <td>-34.02</td>\n",
              "      <td>7494.36</td>\n",
              "      <td>B_08</td>\n",
              "    </tr>\n",
              "    <tr>\n",
              "      <th>8</th>\n",
              "      <td>147.15</td>\n",
              "      <td>9.14</td>\n",
              "      <td>-3.06</td>\n",
              "      <td>1.97</td>\n",
              "      <td>8.14</td>\n",
              "      <td>26.99</td>\n",
              "      <td>37.34</td>\n",
              "      <td>249.96</td>\n",
              "      <td>B_09</td>\n",
              "    </tr>\n",
              "    <tr>\n",
              "      <th>9</th>\n",
              "      <td>8.68</td>\n",
              "      <td>-207.09</td>\n",
              "      <td>-4.37</td>\n",
              "      <td>-10.22</td>\n",
              "      <td>-5.01</td>\n",
              "      <td>10.57</td>\n",
              "      <td>-24.65</td>\n",
              "      <td>20.43</td>\n",
              "      <td>B_10</td>\n",
              "    </tr>\n",
              "  </tbody>\n",
              "</table>\n",
              "</div>\n",
              "      <button class=\"colab-df-convert\" onclick=\"convertToInteractive('df-53afa060-e94a-4960-98c9-7667c59dddae')\"\n",
              "              title=\"Convert this dataframe to an interactive table.\"\n",
              "              style=\"display:none;\">\n",
              "        \n",
              "  <svg xmlns=\"http://www.w3.org/2000/svg\" height=\"24px\"viewBox=\"0 0 24 24\"\n",
              "       width=\"24px\">\n",
              "    <path d=\"M0 0h24v24H0V0z\" fill=\"none\"/>\n",
              "    <path d=\"M18.56 5.44l.94 2.06.94-2.06 2.06-.94-2.06-.94-.94-2.06-.94 2.06-2.06.94zm-11 1L8.5 8.5l.94-2.06 2.06-.94-2.06-.94L8.5 2.5l-.94 2.06-2.06.94zm10 10l.94 2.06.94-2.06 2.06-.94-2.06-.94-.94-2.06-.94 2.06-2.06.94z\"/><path d=\"M17.41 7.96l-1.37-1.37c-.4-.4-.92-.59-1.43-.59-.52 0-1.04.2-1.43.59L10.3 9.45l-7.72 7.72c-.78.78-.78 2.05 0 2.83L4 21.41c.39.39.9.59 1.41.59.51 0 1.02-.2 1.41-.59l7.78-7.78 2.81-2.81c.8-.78.8-2.07 0-2.86zM5.41 20L4 18.59l7.72-7.72 1.47 1.35L5.41 20z\"/>\n",
              "  </svg>\n",
              "      </button>\n",
              "      \n",
              "  <style>\n",
              "    .colab-df-container {\n",
              "      display:flex;\n",
              "      flex-wrap:wrap;\n",
              "      gap: 12px;\n",
              "    }\n",
              "\n",
              "    .colab-df-convert {\n",
              "      background-color: #E8F0FE;\n",
              "      border: none;\n",
              "      border-radius: 50%;\n",
              "      cursor: pointer;\n",
              "      display: none;\n",
              "      fill: #1967D2;\n",
              "      height: 32px;\n",
              "      padding: 0 0 0 0;\n",
              "      width: 32px;\n",
              "    }\n",
              "\n",
              "    .colab-df-convert:hover {\n",
              "      background-color: #E2EBFA;\n",
              "      box-shadow: 0px 1px 2px rgba(60, 64, 67, 0.3), 0px 1px 3px 1px rgba(60, 64, 67, 0.15);\n",
              "      fill: #174EA6;\n",
              "    }\n",
              "\n",
              "    [theme=dark] .colab-df-convert {\n",
              "      background-color: #3B4455;\n",
              "      fill: #D2E3FC;\n",
              "    }\n",
              "\n",
              "    [theme=dark] .colab-df-convert:hover {\n",
              "      background-color: #434B5C;\n",
              "      box-shadow: 0px 1px 3px 1px rgba(0, 0, 0, 0.15);\n",
              "      filter: drop-shadow(0px 1px 2px rgba(0, 0, 0, 0.3));\n",
              "      fill: #FFFFFF;\n",
              "    }\n",
              "  </style>\n",
              "\n",
              "      <script>\n",
              "        const buttonEl =\n",
              "          document.querySelector('#df-53afa060-e94a-4960-98c9-7667c59dddae button.colab-df-convert');\n",
              "        buttonEl.style.display =\n",
              "          google.colab.kernel.accessAllowed ? 'block' : 'none';\n",
              "\n",
              "        async function convertToInteractive(key) {\n",
              "          const element = document.querySelector('#df-53afa060-e94a-4960-98c9-7667c59dddae');\n",
              "          const dataTable =\n",
              "            await google.colab.kernel.invokeFunction('convertToInteractive',\n",
              "                                                     [key], {});\n",
              "          if (!dataTable) return;\n",
              "\n",
              "          const docLinkHtml = 'Like what you see? Visit the ' +\n",
              "            '<a target=\"_blank\" href=https://colab.research.google.com/notebooks/data_table.ipynb>data table notebook</a>'\n",
              "            + ' to learn more about interactive tables.';\n",
              "          element.innerHTML = '';\n",
              "          dataTable['output_type'] = 'display_data';\n",
              "          await google.colab.output.renderOutput(dataTable, element);\n",
              "          const docLink = document.createElement('div');\n",
              "          docLink.innerHTML = docLinkHtml;\n",
              "          element.appendChild(docLink);\n",
              "        }\n",
              "      </script>\n",
              "    </div>\n",
              "  </div>\n",
              "  "
            ]
          },
          "metadata": {},
          "execution_count": 337
        }
      ]
    },
    {
      "cell_type": "code",
      "source": [
        "columns =['x1','x2','x3','x4','x5','x6','x7','x8','y']\n",
        "for x in columns:\n",
        "  meanX = df[x].mean()\n",
        "  df[x].fillna(meanX, inplace =True)\n",
        "\n"
      ],
      "metadata": {
        "id": "0AUnFSMGrjbz"
      },
      "execution_count": null,
      "outputs": []
    },
    {
      "cell_type": "code",
      "source": [
        "df[df.isna().any(axis=1)]"
      ],
      "metadata": {
        "colab": {
          "base_uri": "https://localhost:8080/",
          "height": 49
        },
        "id": "yk4nAOWGtb_S",
        "outputId": "997fe19e-f543-489f-8a89-b5e66cca2a5e"
      },
      "execution_count": null,
      "outputs": [
        {
          "output_type": "execute_result",
          "data": {
            "text/plain": [
              "Empty DataFrame\n",
              "Columns: [x1, x2, x3, x4, x5, x6, x7, x8, y]\n",
              "Index: []"
            ],
            "text/html": [
              "\n",
              "  <div id=\"df-471e0cff-9254-44a3-8d31-4c7e1a2f0f8d\">\n",
              "    <div class=\"colab-df-container\">\n",
              "      <div>\n",
              "<style scoped>\n",
              "    .dataframe tbody tr th:only-of-type {\n",
              "        vertical-align: middle;\n",
              "    }\n",
              "\n",
              "    .dataframe tbody tr th {\n",
              "        vertical-align: top;\n",
              "    }\n",
              "\n",
              "    .dataframe thead th {\n",
              "        text-align: right;\n",
              "    }\n",
              "</style>\n",
              "<table border=\"1\" class=\"dataframe\">\n",
              "  <thead>\n",
              "    <tr style=\"text-align: right;\">\n",
              "      <th></th>\n",
              "      <th>x1</th>\n",
              "      <th>x2</th>\n",
              "      <th>x3</th>\n",
              "      <th>x4</th>\n",
              "      <th>x5</th>\n",
              "      <th>x6</th>\n",
              "      <th>x7</th>\n",
              "      <th>x8</th>\n",
              "      <th>y</th>\n",
              "    </tr>\n",
              "  </thead>\n",
              "  <tbody>\n",
              "  </tbody>\n",
              "</table>\n",
              "</div>\n",
              "      <button class=\"colab-df-convert\" onclick=\"convertToInteractive('df-471e0cff-9254-44a3-8d31-4c7e1a2f0f8d')\"\n",
              "              title=\"Convert this dataframe to an interactive table.\"\n",
              "              style=\"display:none;\">\n",
              "        \n",
              "  <svg xmlns=\"http://www.w3.org/2000/svg\" height=\"24px\"viewBox=\"0 0 24 24\"\n",
              "       width=\"24px\">\n",
              "    <path d=\"M0 0h24v24H0V0z\" fill=\"none\"/>\n",
              "    <path d=\"M18.56 5.44l.94 2.06.94-2.06 2.06-.94-2.06-.94-.94-2.06-.94 2.06-2.06.94zm-11 1L8.5 8.5l.94-2.06 2.06-.94-2.06-.94L8.5 2.5l-.94 2.06-2.06.94zm10 10l.94 2.06.94-2.06 2.06-.94-2.06-.94-.94-2.06-.94 2.06-2.06.94z\"/><path d=\"M17.41 7.96l-1.37-1.37c-.4-.4-.92-.59-1.43-.59-.52 0-1.04.2-1.43.59L10.3 9.45l-7.72 7.72c-.78.78-.78 2.05 0 2.83L4 21.41c.39.39.9.59 1.41.59.51 0 1.02-.2 1.41-.59l7.78-7.78 2.81-2.81c.8-.78.8-2.07 0-2.86zM5.41 20L4 18.59l7.72-7.72 1.47 1.35L5.41 20z\"/>\n",
              "  </svg>\n",
              "      </button>\n",
              "      \n",
              "  <style>\n",
              "    .colab-df-container {\n",
              "      display:flex;\n",
              "      flex-wrap:wrap;\n",
              "      gap: 12px;\n",
              "    }\n",
              "\n",
              "    .colab-df-convert {\n",
              "      background-color: #E8F0FE;\n",
              "      border: none;\n",
              "      border-radius: 50%;\n",
              "      cursor: pointer;\n",
              "      display: none;\n",
              "      fill: #1967D2;\n",
              "      height: 32px;\n",
              "      padding: 0 0 0 0;\n",
              "      width: 32px;\n",
              "    }\n",
              "\n",
              "    .colab-df-convert:hover {\n",
              "      background-color: #E2EBFA;\n",
              "      box-shadow: 0px 1px 2px rgba(60, 64, 67, 0.3), 0px 1px 3px 1px rgba(60, 64, 67, 0.15);\n",
              "      fill: #174EA6;\n",
              "    }\n",
              "\n",
              "    [theme=dark] .colab-df-convert {\n",
              "      background-color: #3B4455;\n",
              "      fill: #D2E3FC;\n",
              "    }\n",
              "\n",
              "    [theme=dark] .colab-df-convert:hover {\n",
              "      background-color: #434B5C;\n",
              "      box-shadow: 0px 1px 3px 1px rgba(0, 0, 0, 0.15);\n",
              "      filter: drop-shadow(0px 1px 2px rgba(0, 0, 0, 0.3));\n",
              "      fill: #FFFFFF;\n",
              "    }\n",
              "  </style>\n",
              "\n",
              "      <script>\n",
              "        const buttonEl =\n",
              "          document.querySelector('#df-471e0cff-9254-44a3-8d31-4c7e1a2f0f8d button.colab-df-convert');\n",
              "        buttonEl.style.display =\n",
              "          google.colab.kernel.accessAllowed ? 'block' : 'none';\n",
              "\n",
              "        async function convertToInteractive(key) {\n",
              "          const element = document.querySelector('#df-471e0cff-9254-44a3-8d31-4c7e1a2f0f8d');\n",
              "          const dataTable =\n",
              "            await google.colab.kernel.invokeFunction('convertToInteractive',\n",
              "                                                     [key], {});\n",
              "          if (!dataTable) return;\n",
              "\n",
              "          const docLinkHtml = 'Like what you see? Visit the ' +\n",
              "            '<a target=\"_blank\" href=https://colab.research.google.com/notebooks/data_table.ipynb>data table notebook</a>'\n",
              "            + ' to learn more about interactive tables.';\n",
              "          element.innerHTML = '';\n",
              "          dataTable['output_type'] = 'display_data';\n",
              "          await google.colab.output.renderOutput(dataTable, element);\n",
              "          const docLink = document.createElement('div');\n",
              "          docLink.innerHTML = docLinkHtml;\n",
              "          element.appendChild(docLink);\n",
              "        }\n",
              "      </script>\n",
              "    </div>\n",
              "  </div>\n",
              "  "
            ]
          },
          "metadata": {},
          "execution_count": 339
        }
      ]
    },
    {
      "cell_type": "code",
      "source": [
        "sns.heatmap(df[df.columns].corr(),annot=True)"
      ],
      "metadata": {
        "colab": {
          "base_uri": "https://localhost:8080/",
          "height": 287
        },
        "id": "eOwFullDDJwM",
        "outputId": "4267a7be-7d68-419b-a102-df9536e5af52"
      },
      "execution_count": null,
      "outputs": [
        {
          "output_type": "execute_result",
          "data": {
            "text/plain": [
              "<matplotlib.axes._subplots.AxesSubplot at 0x7f0e1c320e50>"
            ]
          },
          "metadata": {},
          "execution_count": 340
        },
        {
          "output_type": "display_data",
          "data": {
            "text/plain": [
              "<Figure size 432x288 with 2 Axes>"
            ],
            "image/png": "[encoded data removed]"
          },
          "metadata": {
            "needs_background": "light"
          }
        }
      ]
    },
    {
      "cell_type": "code",
      "source": [
        "df"
      ],
      "metadata": {
        "colab": {
          "base_uri": "https://localhost:8080/",
          "height": 467
        },
        "id": "BvXvLz0GiHui",
        "outputId": "127a5ab2-0c42-429f-88fc-0df61432d604"
      },
      "execution_count": null,
      "outputs": [
        {
          "output_type": "execute_result",
          "data": {
            "text/plain": [
              "             x1      x2         x3         x4         x5      x6          x7  \\\n",
              "0     58.760000  123.79  -3.120000 -13.110000   4.030000  224.40 -248.420000   \n",
              "1    120.850000  163.83  14.750000  -2.120000   8.610000   28.05  -73.580000   \n",
              "2    -19.300000   39.05   0.550000   1.340000  -1.700000   -2.19  308.070000   \n",
              "3    -65.720000  -36.37  10.760000  -8.880000  15.040000   -5.70   14.600000   \n",
              "4     11.000000  -64.78  -3.230000   7.370000  25.740000   20.48   91.130000   \n",
              "..          ...     ...        ...        ...        ...     ...         ...   \n",
              "185   14.175056    8.79 -10.480000  -0.299167  12.520000  -10.13   16.658889   \n",
              "186  -30.810000   48.65  -2.560663   2.580000   8.720000    6.97  -69.110000   \n",
              "187   14.175056   50.33   3.130000  13.030000  -0.412044    4.53 -173.700000   \n",
              "188  101.460000  -67.42   0.440000  -3.740000   8.930000   -4.29   21.790000   \n",
              "189  -87.330000  -16.89   7.390000  21.440000   9.440000   18.92   16.658889   \n",
              "\n",
              "           x8      y  \n",
              "0        7.18   6.73  \n",
              "1      670.29   7.28  \n",
              "2     3567.67   5.22  \n",
              "3     1054.30   6.66  \n",
              "4      102.21  -0.25  \n",
              "..        ...    ...  \n",
              "185   1174.43   3.69  \n",
              "186   1583.24   5.99  \n",
              "187    254.72  -6.73  \n",
              "188  40925.29 -13.39  \n",
              "189   3730.77   4.40  \n",
              "\n",
              "[190 rows x 9 columns]"
            ],
            "text/html": [
              "\n",
              "  <div id=\"df-121cc503-d08c-4b5c-beac-96fbbca9d4bc\">\n",
              "    <div class=\"colab-df-container\">\n",
              "      <div>\n",
              "<style scoped>\n",
              "    .dataframe tbody tr th:only-of-type {\n",
              "        vertical-align: middle;\n",
              "    }\n",
              "\n",
              "    .dataframe tbody tr th {\n",
              "        vertical-align: top;\n",
              "    }\n",
              "\n",
              "    .dataframe thead th {\n",
              "        text-align: right;\n",
              "    }\n",
              "</style>\n",
              "<table border=\"1\" class=\"dataframe\">\n",
              "  <thead>\n",
              "    <tr style=\"text-align: right;\">\n",
              "      <th></th>\n",
              "      <th>x1</th>\n",
              "      <th>x2</th>\n",
              "      <th>x3</th>\n",
              "      <th>x4</th>\n",
              "      <th>x5</th>\n",
              "      <th>x6</th>\n",
              "      <th>x7</th>\n",
              "      <th>x8</th>\n",
              "      <th>y</th>\n",
              "    </tr>\n",
              "  </thead>\n",
              "  <tbody>\n",
              "    <tr>\n",
              "      <th>0</th>\n",
              "      <td>58.760000</td>\n",
              "      <td>123.79</td>\n",
              "      <td>-3.120000</td>\n",
              "      <td>-13.110000</td>\n",
              "      <td>4.030000</td>\n",
              "      <td>224.40</td>\n",
              "      <td>-248.420000</td>\n",
              "      <td>7.18</td>\n",
              "      <td>6.73</td>\n",
              "    </tr>\n",
              "    <tr>\n",
              "      <th>1</th>\n",
              "      <td>120.850000</td>\n",
              "      <td>163.83</td>\n",
              "      <td>14.750000</td>\n",
              "      <td>-2.120000</td>\n",
              "      <td>8.610000</td>\n",
              "      <td>28.05</td>\n",
              "      <td>-73.580000</td>\n",
              "      <td>670.29</td>\n",
              "      <td>7.28</td>\n",
              "    </tr>\n",
              "    <tr>\n",
              "      <th>2</th>\n",
              "      <td>-19.300000</td>\n",
              "      <td>39.05</td>\n",
              "      <td>0.550000</td>\n",
              "      <td>1.340000</td>\n",
              "      <td>-1.700000</td>\n",
              "      <td>-2.19</td>\n",
              "      <td>308.070000</td>\n",
              "      <td>3567.67</td>\n",
              "      <td>5.22</td>\n",
              "    </tr>\n",
              "    <tr>\n",
              "      <th>3</th>\n",
              "      <td>-65.720000</td>\n",
              "      <td>-36.37</td>\n",
              "      <td>10.760000</td>\n",
              "      <td>-8.880000</td>\n",
              "      <td>15.040000</td>\n",
              "      <td>-5.70</td>\n",
              "      <td>14.600000</td>\n",
              "      <td>1054.30</td>\n",
              "      <td>6.66</td>\n",
              "    </tr>\n",
              "    <tr>\n",
              "      <th>4</th>\n",
              "      <td>11.000000</td>\n",
              "      <td>-64.78</td>\n",
              "      <td>-3.230000</td>\n",
              "      <td>7.370000</td>\n",
              "      <td>25.740000</td>\n",
              "      <td>20.48</td>\n",
              "      <td>91.130000</td>\n",
              "      <td>102.21</td>\n",
              "      <td>-0.25</td>\n",
              "    </tr>\n",
              "    <tr>\n",
              "      <th>...</th>\n",
              "      <td>...</td>\n",
              "      <td>...</td>\n",
              "      <td>...</td>\n",
              "      <td>...</td>\n",
              "      <td>...</td>\n",
              "      <td>...</td>\n",
              "      <td>...</td>\n",
              "      <td>...</td>\n",
              "      <td>...</td>\n",
              "    </tr>\n",
              "    <tr>\n",
              "      <th>185</th>\n",
              "      <td>14.175056</td>\n",
              "      <td>8.79</td>\n",
              "      <td>-10.480000</td>\n",
              "      <td>-0.299167</td>\n",
              "      <td>12.520000</td>\n",
              "      <td>-10.13</td>\n",
              "      <td>16.658889</td>\n",
              "      <td>1174.43</td>\n",
              "      <td>3.69</td>\n",
              "    </tr>\n",
              "    <tr>\n",
              "      <th>186</th>\n",
              "      <td>-30.810000</td>\n",
              "      <td>48.65</td>\n",
              "      <td>-2.560663</td>\n",
              "      <td>2.580000</td>\n",
              "      <td>8.720000</td>\n",
              "      <td>6.97</td>\n",
              "      <td>-69.110000</td>\n",
              "      <td>1583.24</td>\n",
              "      <td>5.99</td>\n",
              "    </tr>\n",
              "    <tr>\n",
              "      <th>187</th>\n",
              "      <td>14.175056</td>\n",
              "      <td>50.33</td>\n",
              "      <td>3.130000</td>\n",
              "      <td>13.030000</td>\n",
              "      <td>-0.412044</td>\n",
              "      <td>4.53</td>\n",
              "      <td>-173.700000</td>\n",
              "      <td>254.72</td>\n",
              "      <td>-6.73</td>\n",
              "    </tr>\n",
              "    <tr>\n",
              "      <th>188</th>\n",
              "      <td>101.460000</td>\n",
              "      <td>-67.42</td>\n",
              "      <td>0.440000</td>\n",
              "      <td>-3.740000</td>\n",
              "      <td>8.930000</td>\n",
              "      <td>-4.29</td>\n",
              "      <td>21.790000</td>\n",
              "      <td>40925.29</td>\n",
              "      <td>-13.39</td>\n",
              "    </tr>\n",
              "    <tr>\n",
              "      <th>189</th>\n",
              "      <td>-87.330000</td>\n",
              "      <td>-16.89</td>\n",
              "      <td>7.390000</td>\n",
              "      <td>21.440000</td>\n",
              "      <td>9.440000</td>\n",
              "      <td>18.92</td>\n",
              "      <td>16.658889</td>\n",
              "      <td>3730.77</td>\n",
              "      <td>4.40</td>\n",
              "    </tr>\n",
              "  </tbody>\n",
              "</table>\n",
              "<p>190 rows × 9 columns</p>\n",
              "</div>\n",
              "      <button class=\"colab-df-convert\" onclick=\"convertToInteractive('df-121cc503-d08c-4b5c-beac-96fbbca9d4bc')\"\n",
              "              title=\"Convert this dataframe to an interactive table.\"\n",
              "              style=\"display:none;\">\n",
              "        \n",
              "  <svg xmlns=\"http://www.w3.org/2000/svg\" height=\"24px\"viewBox=\"0 0 24 24\"\n",
              "       width=\"24px\">\n",
              "    <path d=\"M0 0h24v24H0V0z\" fill=\"none\"/>\n",
              "    <path d=\"M18.56 5.44l.94 2.06.94-2.06 2.06-.94-2.06-.94-.94-2.06-.94 2.06-2.06.94zm-11 1L8.5 8.5l.94-2.06 2.06-.94-2.06-.94L8.5 2.5l-.94 2.06-2.06.94zm10 10l.94 2.06.94-2.06 2.06-.94-2.06-.94-.94-2.06-.94 2.06-2.06.94z\"/><path d=\"M17.41 7.96l-1.37-1.37c-.4-.4-.92-.59-1.43-.59-.52 0-1.04.2-1.43.59L10.3 9.45l-7.72 7.72c-.78.78-.78 2.05 0 2.83L4 21.41c.39.39.9.59 1.41.59.51 0 1.02-.2 1.41-.59l7.78-7.78 2.81-2.81c.8-.78.8-2.07 0-2.86zM5.41 20L4 18.59l7.72-7.72 1.47 1.35L5.41 20z\"/>\n",
              "  </svg>\n",
              "      </button>\n",
              "      \n",
              "  <style>\n",
              "    .colab-df-container {\n",
              "      display:flex;\n",
              "      flex-wrap:wrap;\n",
              "      gap: 12px;\n",
              "    }\n",
              "\n",
              "    .colab-df-convert {\n",
              "      background-color: #E8F0FE;\n",
              "      border: none;\n",
              "      border-radius: 50%;\n",
              "      cursor: pointer;\n",
              "      display: none;\n",
              "      fill: #1967D2;\n",
              "      height: 32px;\n",
              "      padding: 0 0 0 0;\n",
              "      width: 32px;\n",
              "    }\n",
              "\n",
              "    .colab-df-convert:hover {\n",
              "      background-color: #E2EBFA;\n",
              "      box-shadow: 0px 1px 2px rgba(60, 64, 67, 0.3), 0px 1px 3px 1px rgba(60, 64, 67, 0.15);\n",
              "      fill: #174EA6;\n",
              "    }\n",
              "\n",
              "    [theme=dark] .colab-df-convert {\n",
              "      background-color: #3B4455;\n",
              "      fill: #D2E3FC;\n",
              "    }\n",
              "\n",
              "    [theme=dark] .colab-df-convert:hover {\n",
              "      background-color: #434B5C;\n",
              "      box-shadow: 0px 1px 3px 1px rgba(0, 0, 0, 0.15);\n",
              "      filter: drop-shadow(0px 1px 2px rgba(0, 0, 0, 0.3));\n",
              "      fill: #FFFFFF;\n",
              "    }\n",
              "  </style>\n",
              "\n",
              "      <script>\n",
              "        const buttonEl =\n",
              "          document.querySelector('#df-121cc503-d08c-4b5c-beac-96fbbca9d4bc button.colab-df-convert');\n",
              "        buttonEl.style.display =\n",
              "          google.colab.kernel.accessAllowed ? 'block' : 'none';\n",
              "\n",
              "        async function convertToInteractive(key) {\n",
              "          const element = document.querySelector('#df-121cc503-d08c-4b5c-beac-96fbbca9d4bc');\n",
              "          const dataTable =\n",
              "            await google.colab.kernel.invokeFunction('convertToInteractive',\n",
              "                                                     [key], {});\n",
              "          if (!dataTable) return;\n",
              "\n",
              "          const docLinkHtml = 'Like what you see? Visit the ' +\n",
              "            '<a target=\"_blank\" href=https://colab.research.google.com/notebooks/data_table.ipynb>data table notebook</a>'\n",
              "            + ' to learn more about interactive tables.';\n",
              "          element.innerHTML = '';\n",
              "          dataTable['output_type'] = 'display_data';\n",
              "          await google.colab.output.renderOutput(dataTable, element);\n",
              "          const docLink = document.createElement('div');\n",
              "          docLink.innerHTML = docLinkHtml;\n",
              "          element.appendChild(docLink);\n",
              "        }\n",
              "      </script>\n",
              "    </div>\n",
              "  </div>\n",
              "  "
            ]
          },
          "metadata": {},
          "execution_count": 341
        }
      ]
    },
    {
      "cell_type": "code",
      "source": [
        "# for  x in columns :\n",
        "#   if x =='y':\n",
        "#     break\n",
        "#   Q1 = np.percentile(df['x1'], 25,\n",
        "#                       interpolation = 'midpoint')\n",
        "    \n",
        "#   Q3 = np.percentile(df['x1'], 75,\n",
        "#                       interpolation = 'midpoint')\n",
        "#   IQR = Q3 - Q1\n",
        "#   print(\"Old Shape: \", df.shape)\n",
        "#     # Upper bound\n",
        "#   upper = np.where(df['x1'] >= (Q3+1.5*IQR))\n",
        "#     # Lower bound\n",
        "#   lower = np.where(df['x1'] <= (Q1-1.5*IQR))\n",
        "#   df.drop(upper[0], inplace = True)\n",
        "#   df.drop(lower[0], inplace = True)\n",
        "#   df.reset_index(drop=True)\n",
        "#   print(\"   \",upper)\n",
        "#   print(\"   \",lower)\n",
        "#   print(\"New Shape: \", df.shape,x)\n"
      ],
      "metadata": {
        "id": "aI0cYgwYyqVQ"
      },
      "execution_count": null,
      "outputs": []
    },
    {
      "cell_type": "code",
      "source": [
        "def cap_data(df):\n",
        "    for col in df.columns:\n",
        "        print(\"capping the \",col)\n",
        "        if (((df[col].dtype)=='float64') | ((df[col].dtype)=='int64')):\n",
        "            percentiles = df[col].quantile([0.01,0.99]).values\n",
        "            df[col][df[col] <= percentiles[0]] = percentiles[0]\n",
        "            df[col][df[col] >= percentiles[1]] = percentiles[1]\n",
        "        else:\n",
        "            df[col]=df[col]\n",
        "    return df\n",
        "\n",
        "final_df=cap_data(df)"
      ],
      "metadata": {
        "colab": {
          "base_uri": "https://localhost:8080/"
        },
        "id": "e6t5r51CAWY9",
        "outputId": "3a9ec727-dd78-4bce-fd56-bfef5f7b8f64"
      },
      "execution_count": null,
      "outputs": [
        {
          "output_type": "stream",
          "name": "stdout",
          "text": [
            "capping the  x1\n",
            "capping the  x2\n",
            "capping the  x3\n",
            "capping the  x4\n",
            "capping the  x5\n",
            "capping the  x6\n",
            "capping the  x7\n",
            "capping the  x8\n",
            "capping the  y\n"
          ]
        }
      ]
    },
    {
      "cell_type": "code",
      "source": [
        "df[['x1']].plot.box()"
      ],
      "metadata": {
        "colab": {
          "base_uri": "https://localhost:8080/",
          "height": 283
        },
        "id": "BPkwt1xTBh0B",
        "outputId": "e72e85a3-0c09-49fa-955a-f15589bdde98"
      },
      "execution_count": null,
      "outputs": [
        {
          "output_type": "execute_result",
          "data": {
            "text/plain": [
              "<matplotlib.axes._subplots.AxesSubplot at 0x7f0e1c0c8510>"
            ]
          },
          "metadata": {},
          "execution_count": 344
        },
        {
          "output_type": "display_data",
          "data": {
            "text/plain": [
              "<Figure size 432x288 with 1 Axes>"
            ],
            "image/png": "[encoded data removed]"
          },
          "metadata": {
            "needs_background": "light"
          }
        }
      ]
    },
    {
      "cell_type": "code",
      "source": [
        "df[['x5','x6','x7','x8']].plot.box()"
      ],
      "metadata": {
        "colab": {
          "base_uri": "https://localhost:8080/",
          "height": 294
        },
        "id": "xkSkbSAF_kNQ",
        "outputId": "f90208cb-8f6f-4e67-da48-af93bc95d702"
      },
      "execution_count": null,
      "outputs": [
        {
          "output_type": "execute_result",
          "data": {
            "text/plain": [
              "<matplotlib.axes._subplots.AxesSubplot at 0x7f0e1c3e8190>"
            ]
          },
          "metadata": {},
          "execution_count": 345
        },
        {
          "output_type": "display_data",
          "data": {
            "text/plain": [
              "<Figure size 432x288 with 1 Axes>"
            ],
            "image/png": "[encoded data removed]"
          },
          "metadata": {
            "needs_background": "light"
          }
        }
      ]
    },
    {
      "cell_type": "code",
      "source": [
        "df[['x1','x2','x3','x4']].plot.box()"
      ],
      "metadata": {
        "colab": {
          "base_uri": "https://localhost:8080/",
          "height": 286
        },
        "id": "mXYLNBWSAuEo",
        "outputId": "24aec338-bb62-4788-e9eb-b374e69b5fbe"
      },
      "execution_count": null,
      "outputs": [
        {
          "output_type": "execute_result",
          "data": {
            "text/plain": [
              "<matplotlib.axes._subplots.AxesSubplot at 0x7f0e1c3ce090>"
            ]
          },
          "metadata": {},
          "execution_count": 346
        },
        {
          "output_type": "display_data",
          "data": {
            "text/plain": [
              "<Figure size 432x288 with 1 Axes>"
            ],
            "image/png": "[encoded data removed]"
          },
          "metadata": {
            "needs_background": "light"
          }
        }
      ]
    },
    {
      "cell_type": "code",
      "source": [
        "for x in df.columns:\n",
        "  plt.scatter(df[x],df['y'])\n",
        "  plt.show()"
      ],
      "metadata": {
        "colab": {
          "base_uri": "https://localhost:8080/",
          "height": 1000
        },
        "id": "sVTKeJMtlQAJ",
        "outputId": "0be44db0-5391-4630-9ddf-d066def2faa5"
      },
      "execution_count": null,
      "outputs": [
        {
          "output_type": "display_data",
          "data": {
            "text/plain": [
              "<Figure size 432x288 with 1 Axes>"
            ],
            "image/png": "[encoded data removed]"
          },
          "metadata": {
            "needs_background": "light"
          }
        },
        {
          "output_type": "display_data",
          "data": {
            "text/plain": [
              "<Figure size 432x288 with 1 Axes>"
            ],
            "image/png": "[encoded data removed]"
          },
          "metadata": {
            "needs_background": "light"
          }
        },
        {
          "output_type": "display_data",
          "data": {
            "text/plain": [
              "<Figure size 432x288 with 1 Axes>"
            ],
            "image/png": "[encoded data removed]"
          },
          "metadata": {
            "needs_background": "light"
          }
        },
        {
          "output_type": "display_data",
          "data": {
            "text/plain": [
              "<Figure size 432x288 with 1 Axes>"
            ],
            "image/png": "[encoded data removed]"
          },
          "metadata": {
            "needs_background": "light"
          }
        },
        {
          "output_type": "display_data",
          "data": {
            "text/plain": [
              "<Figure size 432x288 with 1 Axes>"
            ],
            "image/png": "[encoded data removed]"
          },
          "metadata": {
            "needs_background": "light"
          }
        },
        {
          "output_type": "display_data",
          "data": {
            "text/plain": [
              "<Figure size 432x288 with 1 Axes>"
            ],
            "image/png": "[encoded data removed]"
          },
          "metadata": {
            "needs_background": "light"
          }
        },
        {
          "output_type": "display_data",
          "data": {
            "text/plain": [
              "<Figure size 432x288 with 1 Axes>"
            ],
            "image/png": "[encoded data removed]"
          },
          "metadata": {
            "needs_background": "light"
          }
        },
        {
          "output_type": "display_data",
          "data": {
            "text/plain": [
              "<Figure size 432x288 with 1 Axes>"
            ],
            "image/png": "[encoded data removed]"
          },
          "metadata": {
            "needs_background": "light"
          }
        },
        {
          "output_type": "display_data",
          "data": {
            "text/plain": [
              "<Figure size 432x288 with 1 Axes>"
            ],
            "image/png": "[encoded data removed]"
          },
          "metadata": {
            "needs_background": "light"
          }
        }
      ]
    },
    {
      "cell_type": "code",
      "source": [
        "x = df[['x1','x2','x3','x4','x5','x6','x7','x8']]\n",
        "y = df[['y']]\n",
        "kf = KFold(n_splits=5)\n",
        "round_num =1 \n",
        "RMSEs = []\n",
        "for train_index, test_index in kf.split(x):\n",
        "  x_train,x_test =x.loc[train_index],x.loc[test_index]\n",
        "  y_train,y_test =y.loc[train_index],y.loc[test_index]\n",
        "\n",
        "  scaler = StandardScaler().fit(x_train)\n",
        "  x_train_scaled =scaler.transform(x_train)\n",
        "\n",
        "  model = LinearRegression()\n",
        "  model.fit(x_train_scaled,y_train)\n",
        "\n",
        "  x_test_scaled =scaler.transform(x_test)\n",
        "  y_pred = model.predict(x_test_scaled)\n",
        "\n",
        "  rmse = mean_squared_error(y_test,y_pred, squared =False)\n",
        "  r2 =model.score(x_train_scaled,y_train)\n",
        "  print(\"Round\",round_num,\" RMSE\",rmse,\"r2\",r2)\n",
        "  round_num +=1\n",
        "\n",
        "  RMSEs.append(rmse)"
      ],
      "metadata": {
        "colab": {
          "base_uri": "https://localhost:8080/"
        },
        "id": "V3qOHMDL6Ajj",
        "outputId": "615ccbd2-f816-4076-a93c-32d5f49f6115"
      },
      "execution_count": null,
      "outputs": [
        {
          "output_type": "stream",
          "name": "stdout",
          "text": [
            "Round 1  RMSE 5.9969279096411015 r2 0.5527503462845531\n",
            "Round 2  RMSE 6.451890115119919 r2 0.5276222093555196\n",
            "Round 3  RMSE 6.982789847786761 r2 0.5664017406056088\n",
            "Round 4  RMSE 7.414353388927171 r2 0.5884489758999571\n",
            "Round 5  RMSE 6.199619873411859 r2 0.5470640859265463\n"
          ]
        }
      ]
    },
    {
      "cell_type": "code",
      "source": [
        "# rmse_mean =np.array(RMSEs).mean()\n",
        "# rmse_mean"
      ],
      "metadata": {
        "id": "BtPk6v_58sgn"
      },
      "execution_count": null,
      "outputs": []
    },
    {
      "cell_type": "code",
      "source": [
        "envs ={}\n",
        "envs[\"LR\"] = LinearRegression()\n",
        "env_results = {}"
      ],
      "metadata": {
        "id": "XjgfdZLsrUHS"
      },
      "execution_count": null,
      "outputs": []
    },
    {
      "cell_type": "code",
      "source": [
        "x = df[['x1','x2','x3','x4','x5','x6','x7','x8']]\n",
        "y = df[['y']]\n",
        "for env_name in envs:\n",
        "  acc_list = []\n",
        "  kf =KFold(n_splits=10)\n",
        "  for train_index, test_index in kf.split(x):\n",
        "    x_train,x_test =x.loc[train_index],x.loc[test_index]\n",
        "    y_train,y_test =y.loc[train_index],y.loc[test_index]\n",
        "\n",
        "    #x_train_scaled =scaler.transform(x_train) \n",
        "    model = envs[env_name].fit(x_train,y_train)\n",
        "   # x_test_scaled =scaler.transform(x_test)\n",
        "    y_pred =model.predict( x_test)\n",
        "    \n",
        "    acc =mean_squared_error(y_test,y_pred, squared =False)\n",
        "    print(\"R2\",model.score(x_train,y_train),\"RMSE\",mean_squared_error(y_test,y_pred, squared =False))\n",
        "    acc_list.append(acc)\n",
        "\n",
        "  acc_mean =np.mean(acc_list)\n",
        "  env_results[env_name] =round(acc_mean,3)\n",
        "# env_results"
      ],
      "metadata": {
        "colab": {
          "base_uri": "https://localhost:8080/"
        },
        "id": "bCg0bvrCwlLu",
        "outputId": "b403dddf-369b-4c7f-f6fb-70eb96341e5c"
      },
      "execution_count": null,
      "outputs": [
        {
          "output_type": "stream",
          "name": "stdout",
          "text": [
            "R2 0.5404786019662298 RMSE 3.1110565325704065\n",
            "R2 0.5575365927667049 RMSE 7.586142314549153\n",
            "R2 0.5396036839198716 RMSE 6.159356041607449\n",
            "R2 0.5335247828854577 RMSE 6.132973723940321\n",
            "R2 0.5650768429302504 RMSE 6.582875789465535\n",
            "R2 0.5441495737508333 RMSE 7.211542170010146\n",
            "R2 0.5200218694374958 RMSE 5.888524172022387\n",
            "R2 0.6206874709673393 RMSE 9.911098577350838\n",
            "R2 0.5340719286598659 RMSE 5.356207741914484\n",
            "R2 0.5609809646723898 RMSE 7.046989248120087\n"
          ]
        }
      ]
    },
    {
      "cell_type": "code",
      "source": [
        "model = envs[\"LR\"].fit(x,y)\n",
        "test = a_test[['x1','x2','x3','x4','x5','x6','x7','x8']]\n",
        "test\n",
        "\n"
      ],
      "metadata": {
        "colab": {
          "base_uri": "https://localhost:8080/",
          "height": 363
        },
        "id": "Hoxm45jzyYRr",
        "outputId": "1fc3a8c2-dd2f-4ae9-be61-27f2c08964df"
      },
      "execution_count": null,
      "outputs": [
        {
          "output_type": "execute_result",
          "data": {
            "text/plain": [
              "       x1      x2     x3     x4     x5     x6      x7        x8\n",
              "0   50.69 -120.50  -5.93   7.43 -16.28  -9.26   96.68  10510.35\n",
              "1  102.08   74.69  -4.95  -2.20  -4.95    NaN   27.30  36952.37\n",
              "2     NaN   49.86   1.00  -5.35   0.72  -9.81     NaN  24768.46\n",
              "3   49.39 -101.88   8.69  -7.54 -11.28   4.61  -15.11       NaN\n",
              "4  140.49   59.99   0.05   6.55    NaN  -0.42  109.93   2603.04\n",
              "5   54.08     NaN  11.00 -16.44   5.31  17.83  -90.67      5.20\n",
              "6  106.48  -50.55  16.47    NaN   1.34 -11.53  138.03   1753.93\n",
              "7  -83.82 -104.84    NaN -13.70  10.19  -2.51  -34.02   7494.36\n",
              "8  147.15    9.14  -3.06   1.97   8.14  26.99   37.34    249.96\n",
              "9    8.68 -207.09  -4.37 -10.22  -5.01  10.57  -24.65     20.43"
            ],
            "text/html": [
              "\n",
              "  <div id=\"df-62078676-7028-4bdb-bdb7-e50b69ac328f\">\n",
              "    <div class=\"colab-df-container\">\n",
              "      <div>\n",
              "<style scoped>\n",
              "    .dataframe tbody tr th:only-of-type {\n",
              "        vertical-align: middle;\n",
              "    }\n",
              "\n",
              "    .dataframe tbody tr th {\n",
              "        vertical-align: top;\n",
              "    }\n",
              "\n",
              "    .dataframe thead th {\n",
              "        text-align: right;\n",
              "    }\n",
              "</style>\n",
              "<table border=\"1\" class=\"dataframe\">\n",
              "  <thead>\n",
              "    <tr style=\"text-align: right;\">\n",
              "      <th></th>\n",
              "      <th>x1</th>\n",
              "      <th>x2</th>\n",
              "      <th>x3</th>\n",
              "      <th>x4</th>\n",
              "      <th>x5</th>\n",
              "      <th>x6</th>\n",
              "      <th>x7</th>\n",
              "      <th>x8</th>\n",
              "    </tr>\n",
              "  </thead>\n",
              "  <tbody>\n",
              "    <tr>\n",
              "      <th>0</th>\n",
              "      <td>50.69</td>\n",
              "      <td>-120.50</td>\n",
              "      <td>-5.93</td>\n",
              "      <td>7.43</td>\n",
              "      <td>-16.28</td>\n",
              "      <td>-9.26</td>\n",
              "      <td>96.68</td>\n",
              "      <td>10510.35</td>\n",
              "    </tr>\n",
              "    <tr>\n",
              "      <th>1</th>\n",
              "      <td>102.08</td>\n",
              "      <td>74.69</td>\n",
              "      <td>-4.95</td>\n",
              "      <td>-2.20</td>\n",
              "      <td>-4.95</td>\n",
              "      <td>NaN</td>\n",
              "      <td>27.30</td>\n",
              "      <td>36952.37</td>\n",
              "    </tr>\n",
              "    <tr>\n",
              "      <th>2</th>\n",
              "      <td>NaN</td>\n",
              "      <td>49.86</td>\n",
              "      <td>1.00</td>\n",
              "      <td>-5.35</td>\n",
              "      <td>0.72</td>\n",
              "      <td>-9.81</td>\n",
              "      <td>NaN</td>\n",
              "      <td>24768.46</td>\n",
              "    </tr>\n",
              "    <tr>\n",
              "      <th>3</th>\n",
              "      <td>49.39</td>\n",
              "      <td>-101.88</td>\n",
              "      <td>8.69</td>\n",
              "      <td>-7.54</td>\n",
              "      <td>-11.28</td>\n",
              "      <td>4.61</td>\n",
              "      <td>-15.11</td>\n",
              "      <td>NaN</td>\n",
              "    </tr>\n",
              "    <tr>\n",
              "      <th>4</th>\n",
              "      <td>140.49</td>\n",
              "      <td>59.99</td>\n",
              "      <td>0.05</td>\n",
              "      <td>6.55</td>\n",
              "      <td>NaN</td>\n",
              "      <td>-0.42</td>\n",
              "      <td>109.93</td>\n",
              "      <td>2603.04</td>\n",
              "    </tr>\n",
              "    <tr>\n",
              "      <th>5</th>\n",
              "      <td>54.08</td>\n",
              "      <td>NaN</td>\n",
              "      <td>11.00</td>\n",
              "      <td>-16.44</td>\n",
              "      <td>5.31</td>\n",
              "      <td>17.83</td>\n",
              "      <td>-90.67</td>\n",
              "      <td>5.20</td>\n",
              "    </tr>\n",
              "    <tr>\n",
              "      <th>6</th>\n",
              "      <td>106.48</td>\n",
              "      <td>-50.55</td>\n",
              "      <td>16.47</td>\n",
              "      <td>NaN</td>\n",
              "      <td>1.34</td>\n",
              "      <td>-11.53</td>\n",
              "      <td>138.03</td>\n",
              "      <td>1753.93</td>\n",
              "    </tr>\n",
              "    <tr>\n",
              "      <th>7</th>\n",
              "      <td>-83.82</td>\n",
              "      <td>-104.84</td>\n",
              "      <td>NaN</td>\n",
              "      <td>-13.70</td>\n",
              "      <td>10.19</td>\n",
              "      <td>-2.51</td>\n",
              "      <td>-34.02</td>\n",
              "      <td>7494.36</td>\n",
              "    </tr>\n",
              "    <tr>\n",
              "      <th>8</th>\n",
              "      <td>147.15</td>\n",
              "      <td>9.14</td>\n",
              "      <td>-3.06</td>\n",
              "      <td>1.97</td>\n",
              "      <td>8.14</td>\n",
              "      <td>26.99</td>\n",
              "      <td>37.34</td>\n",
              "      <td>249.96</td>\n",
              "    </tr>\n",
              "    <tr>\n",
              "      <th>9</th>\n",
              "      <td>8.68</td>\n",
              "      <td>-207.09</td>\n",
              "      <td>-4.37</td>\n",
              "      <td>-10.22</td>\n",
              "      <td>-5.01</td>\n",
              "      <td>10.57</td>\n",
              "      <td>-24.65</td>\n",
              "      <td>20.43</td>\n",
              "    </tr>\n",
              "  </tbody>\n",
              "</table>\n",
              "</div>\n",
              "      <button class=\"colab-df-convert\" onclick=\"convertToInteractive('df-62078676-7028-4bdb-bdb7-e50b69ac328f')\"\n",
              "              title=\"Convert this dataframe to an interactive table.\"\n",
              "              style=\"display:none;\">\n",
              "        \n",
              "  <svg xmlns=\"http://www.w3.org/2000/svg\" height=\"24px\"viewBox=\"0 0 24 24\"\n",
              "       width=\"24px\">\n",
              "    <path d=\"M0 0h24v24H0V0z\" fill=\"none\"/>\n",
              "    <path d=\"M18.56 5.44l.94 2.06.94-2.06 2.06-.94-2.06-.94-.94-2.06-.94 2.06-2.06.94zm-11 1L8.5 8.5l.94-2.06 2.06-.94-2.06-.94L8.5 2.5l-.94 2.06-2.06.94zm10 10l.94 2.06.94-2.06 2.06-.94-2.06-.94-.94-2.06-.94 2.06-2.06.94z\"/><path d=\"M17.41 7.96l-1.37-1.37c-.4-.4-.92-.59-1.43-.59-.52 0-1.04.2-1.43.59L10.3 9.45l-7.72 7.72c-.78.78-.78 2.05 0 2.83L4 21.41c.39.39.9.59 1.41.59.51 0 1.02-.2 1.41-.59l7.78-7.78 2.81-2.81c.8-.78.8-2.07 0-2.86zM5.41 20L4 18.59l7.72-7.72 1.47 1.35L5.41 20z\"/>\n",
              "  </svg>\n",
              "      </button>\n",
              "      \n",
              "  <style>\n",
              "    .colab-df-container {\n",
              "      display:flex;\n",
              "      flex-wrap:wrap;\n",
              "      gap: 12px;\n",
              "    }\n",
              "\n",
              "    .colab-df-convert {\n",
              "      background-color: #E8F0FE;\n",
              "      border: none;\n",
              "      border-radius: 50%;\n",
              "      cursor: pointer;\n",
              "      display: none;\n",
              "      fill: #1967D2;\n",
              "      height: 32px;\n",
              "      padding: 0 0 0 0;\n",
              "      width: 32px;\n",
              "    }\n",
              "\n",
              "    .colab-df-convert:hover {\n",
              "      background-color: #E2EBFA;\n",
              "      box-shadow: 0px 1px 2px rgba(60, 64, 67, 0.3), 0px 1px 3px 1px rgba(60, 64, 67, 0.15);\n",
              "      fill: #174EA6;\n",
              "    }\n",
              "\n",
              "    [theme=dark] .colab-df-convert {\n",
              "      background-color: #3B4455;\n",
              "      fill: #D2E3FC;\n",
              "    }\n",
              "\n",
              "    [theme=dark] .colab-df-convert:hover {\n",
              "      background-color: #434B5C;\n",
              "      box-shadow: 0px 1px 3px 1px rgba(0, 0, 0, 0.15);\n",
              "      filter: drop-shadow(0px 1px 2px rgba(0, 0, 0, 0.3));\n",
              "      fill: #FFFFFF;\n",
              "    }\n",
              "  </style>\n",
              "\n",
              "      <script>\n",
              "        const buttonEl =\n",
              "          document.querySelector('#df-62078676-7028-4bdb-bdb7-e50b69ac328f button.colab-df-convert');\n",
              "        buttonEl.style.display =\n",
              "          google.colab.kernel.accessAllowed ? 'block' : 'none';\n",
              "\n",
              "        async function convertToInteractive(key) {\n",
              "          const element = document.querySelector('#df-62078676-7028-4bdb-bdb7-e50b69ac328f');\n",
              "          const dataTable =\n",
              "            await google.colab.kernel.invokeFunction('convertToInteractive',\n",
              "                                                     [key], {});\n",
              "          if (!dataTable) return;\n",
              "\n",
              "          const docLinkHtml = 'Like what you see? Visit the ' +\n",
              "            '<a target=\"_blank\" href=https://colab.research.google.com/notebooks/data_table.ipynb>data table notebook</a>'\n",
              "            + ' to learn more about interactive tables.';\n",
              "          element.innerHTML = '';\n",
              "          dataTable['output_type'] = 'display_data';\n",
              "          await google.colab.output.renderOutput(dataTable, element);\n",
              "          const docLink = document.createElement('div');\n",
              "          docLink.innerHTML = docLinkHtml;\n",
              "          element.appendChild(docLink);\n",
              "        }\n",
              "      </script>\n",
              "    </div>\n",
              "  </div>\n",
              "  "
            ]
          },
          "metadata": {},
          "execution_count": 352
        }
      ]
    },
    {
      "cell_type": "code",
      "source": [
        "columns =['x1','x2','x3','x4','x5','x6','x7','x8']\n",
        "for x in columns:\n",
        "  meanX = test[x].median()\n",
        "  test[x].fillna(meanX, inplace =True)\n",
        "  \n",
        "test\n"
      ],
      "metadata": {
        "colab": {
          "base_uri": "https://localhost:8080/",
          "height": 1000
        },
        "id": "UmulMbmjFmuC",
        "outputId": "21c0b047-3710-4c17-c384-d5d0b44e28e6"
      },
      "execution_count": null,
      "outputs": [
        {
          "output_type": "stream",
          "name": "stderr",
          "text": [
            "/usr/local/lib/python3.7/dist-packages/pandas/core/generic.py:6392: SettingWithCopyWarning: \n",
            "A value is trying to be set on a copy of a slice from a DataFrame\n",
            "\n",
            "See the caveats in the documentation: https://pandas.pydata.org/pandas-docs/stable/user_guide/indexing.html#returning-a-view-versus-a-copy\n",
            "  return self._update_inplace(result)\n",
            "/usr/local/lib/python3.7/dist-packages/pandas/core/generic.py:6392: SettingWithCopyWarning: \n",
            "A value is trying to be set on a copy of a slice from a DataFrame\n",
            "\n",
            "See the caveats in the documentation: https://pandas.pydata.org/pandas-docs/stable/user_guide/indexing.html#returning-a-view-versus-a-copy\n",
            "  return self._update_inplace(result)\n",
            "/usr/local/lib/python3.7/dist-packages/pandas/core/generic.py:6392: SettingWithCopyWarning: \n",
            "A value is trying to be set on a copy of a slice from a DataFrame\n",
            "\n",
            "See the caveats in the documentation: https://pandas.pydata.org/pandas-docs/stable/user_guide/indexing.html#returning-a-view-versus-a-copy\n",
            "  return self._update_inplace(result)\n",
            "/usr/local/lib/python3.7/dist-packages/pandas/core/generic.py:6392: SettingWithCopyWarning: \n",
            "A value is trying to be set on a copy of a slice from a DataFrame\n",
            "\n",
            "See the caveats in the documentation: https://pandas.pydata.org/pandas-docs/stable/user_guide/indexing.html#returning-a-view-versus-a-copy\n",
            "  return self._update_inplace(result)\n",
            "/usr/local/lib/python3.7/dist-packages/pandas/core/generic.py:6392: SettingWithCopyWarning: \n",
            "A value is trying to be set on a copy of a slice from a DataFrame\n",
            "\n",
            "See the caveats in the documentation: https://pandas.pydata.org/pandas-docs/stable/user_guide/indexing.html#returning-a-view-versus-a-copy\n",
            "  return self._update_inplace(result)\n",
            "/usr/local/lib/python3.7/dist-packages/pandas/core/generic.py:6392: SettingWithCopyWarning: \n",
            "A value is trying to be set on a copy of a slice from a DataFrame\n",
            "\n",
            "See the caveats in the documentation: https://pandas.pydata.org/pandas-docs/stable/user_guide/indexing.html#returning-a-view-versus-a-copy\n",
            "  return self._update_inplace(result)\n",
            "/usr/local/lib/python3.7/dist-packages/pandas/core/generic.py:6392: SettingWithCopyWarning: \n",
            "A value is trying to be set on a copy of a slice from a DataFrame\n",
            "\n",
            "See the caveats in the documentation: https://pandas.pydata.org/pandas-docs/stable/user_guide/indexing.html#returning-a-view-versus-a-copy\n",
            "  return self._update_inplace(result)\n",
            "/usr/local/lib/python3.7/dist-packages/pandas/core/generic.py:6392: SettingWithCopyWarning: \n",
            "A value is trying to be set on a copy of a slice from a DataFrame\n",
            "\n",
            "See the caveats in the documentation: https://pandas.pydata.org/pandas-docs/stable/user_guide/indexing.html#returning-a-view-versus-a-copy\n",
            "  return self._update_inplace(result)\n"
          ]
        },
        {
          "output_type": "execute_result",
          "data": {
            "text/plain": [
              "       x1      x2     x3     x4     x5     x6      x7        x8\n",
              "0   50.69 -120.50  -5.93   7.43 -16.28  -9.26   96.68  10510.35\n",
              "1  102.08   74.69  -4.95  -2.20  -4.95  -0.42   27.30  36952.37\n",
              "2   54.08   49.86   1.00  -5.35   0.72  -9.81   27.30  24768.46\n",
              "3   49.39 -101.88   8.69  -7.54 -11.28   4.61  -15.11   2603.04\n",
              "4  140.49   59.99   0.05   6.55   0.72  -0.42  109.93   2603.04\n",
              "5   54.08  -50.55  11.00 -16.44   5.31  17.83  -90.67      5.20\n",
              "6  106.48  -50.55  16.47  -5.35   1.34 -11.53  138.03   1753.93\n",
              "7  -83.82 -104.84   0.05 -13.70  10.19  -2.51  -34.02   7494.36\n",
              "8  147.15    9.14  -3.06   1.97   8.14  26.99   37.34    249.96\n",
              "9    8.68 -207.09  -4.37 -10.22  -5.01  10.57  -24.65     20.43"
            ],
            "text/html": [
              "\n",
              "  <div id=\"df-6eb471bb-c6f1-4bb8-86d6-0a21a5337333\">\n",
              "    <div class=\"colab-df-container\">\n",
              "      <div>\n",
              "<style scoped>\n",
              "    .dataframe tbody tr th:only-of-type {\n",
              "        vertical-align: middle;\n",
              "    }\n",
              "\n",
              "    .dataframe tbody tr th {\n",
              "        vertical-align: top;\n",
              "    }\n",
              "\n",
              "    .dataframe thead th {\n",
              "        text-align: right;\n",
              "    }\n",
              "</style>\n",
              "<table border=\"1\" class=\"dataframe\">\n",
              "  <thead>\n",
              "    <tr style=\"text-align: right;\">\n",
              "      <th></th>\n",
              "      <th>x1</th>\n",
              "      <th>x2</th>\n",
              "      <th>x3</th>\n",
              "      <th>x4</th>\n",
              "      <th>x5</th>\n",
              "      <th>x6</th>\n",
              "      <th>x7</th>\n",
              "      <th>x8</th>\n",
              "    </tr>\n",
              "  </thead>\n",
              "  <tbody>\n",
              "    <tr>\n",
              "      <th>0</th>\n",
              "      <td>50.69</td>\n",
              "      <td>-120.50</td>\n",
              "      <td>-5.93</td>\n",
              "      <td>7.43</td>\n",
              "      <td>-16.28</td>\n",
              "      <td>-9.26</td>\n",
              "      <td>96.68</td>\n",
              "      <td>10510.35</td>\n",
              "    </tr>\n",
              "    <tr>\n",
              "      <th>1</th>\n",
              "      <td>102.08</td>\n",
              "      <td>74.69</td>\n",
              "      <td>-4.95</td>\n",
              "      <td>-2.20</td>\n",
              "      <td>-4.95</td>\n",
              "      <td>-0.42</td>\n",
              "      <td>27.30</td>\n",
              "      <td>36952.37</td>\n",
              "    </tr>\n",
              "    <tr>\n",
              "      <th>2</th>\n",
              "      <td>54.08</td>\n",
              "      <td>49.86</td>\n",
              "      <td>1.00</td>\n",
              "      <td>-5.35</td>\n",
              "      <td>0.72</td>\n",
              "      <td>-9.81</td>\n",
              "      <td>27.30</td>\n",
              "      <td>24768.46</td>\n",
              "    </tr>\n",
              "    <tr>\n",
              "      <th>3</th>\n",
              "      <td>49.39</td>\n",
              "      <td>-101.88</td>\n",
              "      <td>8.69</td>\n",
              "      <td>-7.54</td>\n",
              "      <td>-11.28</td>\n",
              "      <td>4.61</td>\n",
              "      <td>-15.11</td>\n",
              "      <td>2603.04</td>\n",
              "    </tr>\n",
              "    <tr>\n",
              "      <th>4</th>\n",
              "      <td>140.49</td>\n",
              "      <td>59.99</td>\n",
              "      <td>0.05</td>\n",
              "      <td>6.55</td>\n",
              "      <td>0.72</td>\n",
              "      <td>-0.42</td>\n",
              "      <td>109.93</td>\n",
              "      <td>2603.04</td>\n",
              "    </tr>\n",
              "    <tr>\n",
              "      <th>5</th>\n",
              "      <td>54.08</td>\n",
              "      <td>-50.55</td>\n",
              "      <td>11.00</td>\n",
              "      <td>-16.44</td>\n",
              "      <td>5.31</td>\n",
              "      <td>17.83</td>\n",
              "      <td>-90.67</td>\n",
              "      <td>5.20</td>\n",
              "    </tr>\n",
              "    <tr>\n",
              "      <th>6</th>\n",
              "      <td>106.48</td>\n",
              "      <td>-50.55</td>\n",
              "      <td>16.47</td>\n",
              "      <td>-5.35</td>\n",
              "      <td>1.34</td>\n",
              "      <td>-11.53</td>\n",
              "      <td>138.03</td>\n",
              "      <td>1753.93</td>\n",
              "    </tr>\n",
              "    <tr>\n",
              "      <th>7</th>\n",
              "      <td>-83.82</td>\n",
              "      <td>-104.84</td>\n",
              "      <td>0.05</td>\n",
              "      <td>-13.70</td>\n",
              "      <td>10.19</td>\n",
              "      <td>-2.51</td>\n",
              "      <td>-34.02</td>\n",
              "      <td>7494.36</td>\n",
              "    </tr>\n",
              "    <tr>\n",
              "      <th>8</th>\n",
              "      <td>147.15</td>\n",
              "      <td>9.14</td>\n",
              "      <td>-3.06</td>\n",
              "      <td>1.97</td>\n",
              "      <td>8.14</td>\n",
              "      <td>26.99</td>\n",
              "      <td>37.34</td>\n",
              "      <td>249.96</td>\n",
              "    </tr>\n",
              "    <tr>\n",
              "      <th>9</th>\n",
              "      <td>8.68</td>\n",
              "      <td>-207.09</td>\n",
              "      <td>-4.37</td>\n",
              "      <td>-10.22</td>\n",
              "      <td>-5.01</td>\n",
              "      <td>10.57</td>\n",
              "      <td>-24.65</td>\n",
              "      <td>20.43</td>\n",
              "    </tr>\n",
              "  </tbody>\n",
              "</table>\n",
              "</div>\n",
              "      <button class=\"colab-df-convert\" onclick=\"convertToInteractive('df-6eb471bb-c6f1-4bb8-86d6-0a21a5337333')\"\n",
              "              title=\"Convert this dataframe to an interactive table.\"\n",
              "              style=\"display:none;\">\n",
              "        \n",
              "  <svg xmlns=\"http://www.w3.org/2000/svg\" height=\"24px\"viewBox=\"0 0 24 24\"\n",
              "       width=\"24px\">\n",
              "    <path d=\"M0 0h24v24H0V0z\" fill=\"none\"/>\n",
              "    <path d=\"M18.56 5.44l.94 2.06.94-2.06 2.06-.94-2.06-.94-.94-2.06-.94 2.06-2.06.94zm-11 1L8.5 8.5l.94-2.06 2.06-.94-2.06-.94L8.5 2.5l-.94 2.06-2.06.94zm10 10l.94 2.06.94-2.06 2.06-.94-2.06-.94-.94-2.06-.94 2.06-2.06.94z\"/><path d=\"M17.41 7.96l-1.37-1.37c-.4-.4-.92-.59-1.43-.59-.52 0-1.04.2-1.43.59L10.3 9.45l-7.72 7.72c-.78.78-.78 2.05 0 2.83L4 21.41c.39.39.9.59 1.41.59.51 0 1.02-.2 1.41-.59l7.78-7.78 2.81-2.81c.8-.78.8-2.07 0-2.86zM5.41 20L4 18.59l7.72-7.72 1.47 1.35L5.41 20z\"/>\n",
              "  </svg>\n",
              "      </button>\n",
              "      \n",
              "  <style>\n",
              "    .colab-df-container {\n",
              "      display:flex;\n",
              "      flex-wrap:wrap;\n",
              "      gap: 12px;\n",
              "    }\n",
              "\n",
              "    .colab-df-convert {\n",
              "      background-color: #E8F0FE;\n",
              "      border: none;\n",
              "      border-radius: 50%;\n",
              "      cursor: pointer;\n",
              "      display: none;\n",
              "      fill: #1967D2;\n",
              "      height: 32px;\n",
              "      padding: 0 0 0 0;\n",
              "      width: 32px;\n",
              "    }\n",
              "\n",
              "    .colab-df-convert:hover {\n",
              "      background-color: #E2EBFA;\n",
              "      box-shadow: 0px 1px 2px rgba(60, 64, 67, 0.3), 0px 1px 3px 1px rgba(60, 64, 67, 0.15);\n",
              "      fill: #174EA6;\n",
              "    }\n",
              "\n",
              "    [theme=dark] .colab-df-convert {\n",
              "      background-color: #3B4455;\n",
              "      fill: #D2E3FC;\n",
              "    }\n",
              "\n",
              "    [theme=dark] .colab-df-convert:hover {\n",
              "      background-color: #434B5C;\n",
              "      box-shadow: 0px 1px 3px 1px rgba(0, 0, 0, 0.15);\n",
              "      filter: drop-shadow(0px 1px 2px rgba(0, 0, 0, 0.3));\n",
              "      fill: #FFFFFF;\n",
              "    }\n",
              "  </style>\n",
              "\n",
              "      <script>\n",
              "        const buttonEl =\n",
              "          document.querySelector('#df-6eb471bb-c6f1-4bb8-86d6-0a21a5337333 button.colab-df-convert');\n",
              "        buttonEl.style.display =\n",
              "          google.colab.kernel.accessAllowed ? 'block' : 'none';\n",
              "\n",
              "        async function convertToInteractive(key) {\n",
              "          const element = document.querySelector('#df-6eb471bb-c6f1-4bb8-86d6-0a21a5337333');\n",
              "          const dataTable =\n",
              "            await google.colab.kernel.invokeFunction('convertToInteractive',\n",
              "                                                     [key], {});\n",
              "          if (!dataTable) return;\n",
              "\n",
              "          const docLinkHtml = 'Like what you see? Visit the ' +\n",
              "            '<a target=\"_blank\" href=https://colab.research.google.com/notebooks/data_table.ipynb>data table notebook</a>'\n",
              "            + ' to learn more about interactive tables.';\n",
              "          element.innerHTML = '';\n",
              "          dataTable['output_type'] = 'display_data';\n",
              "          await google.colab.output.renderOutput(dataTable, element);\n",
              "          const docLink = document.createElement('div');\n",
              "          docLink.innerHTML = docLinkHtml;\n",
              "          element.appendChild(docLink);\n",
              "        }\n",
              "      </script>\n",
              "    </div>\n",
              "  </div>\n",
              "  "
            ]
          },
          "metadata": {},
          "execution_count": 353
        }
      ]
    },
    {
      "cell_type": "code",
      "source": [
        "x = df[['x1','x2','x3','x4','x5','x6','x7','x8']]\n",
        "\n",
        "model.predict(test)\n"
      ],
      "metadata": {
        "colab": {
          "base_uri": "https://localhost:8080/"
        },
        "id": "_c1k2EVgF__F",
        "outputId": "27c366e5-ac74-4298-b1f4-cd1dec2d4fd4"
      },
      "execution_count": null,
      "outputs": [
        {
          "output_type": "execute_result",
          "data": {
            "text/plain": [
              "array([[-3.16698222],\n",
              "       [ 2.76855861],\n",
              "       [ 3.6796994 ],\n",
              "       [-2.59998638],\n",
              "       [ 1.34907945],\n",
              "       [-0.29956496],\n",
              "       [-1.59748639],\n",
              "       [ 2.83239969],\n",
              "       [-0.62805826],\n",
              "       [-4.80392686]])"
            ]
          },
          "metadata": {},
          "execution_count": 354
        }
      ]
    }
  ]
}